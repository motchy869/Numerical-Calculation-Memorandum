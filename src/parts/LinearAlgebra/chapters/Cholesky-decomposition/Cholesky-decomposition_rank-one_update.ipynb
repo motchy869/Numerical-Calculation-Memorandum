{
 "cells": [
  {
   "cell_type": "markdown",
   "metadata": {},
   "source": [
    "# Cholesky decomposition rank-one update"
   ]
  },
  {
   "cell_type": "markdown",
   "metadata": {},
   "source": [
    "## implementation"
   ]
  },
  {
   "cell_type": "code",
   "execution_count": 1,
   "metadata": {},
   "outputs": [],
   "source": [
    "using LinearAlgebra"
   ]
  },
  {
   "cell_type": "code",
   "execution_count": 3,
   "metadata": {},
   "outputs": [
    {
     "data": {
      "text/plain": [
       "CholeskyDecompRank1Update"
      ]
     },
     "execution_count": 3,
     "metadata": {},
     "output_type": "execute_result"
    }
   ],
   "source": [
    "\"\"\"\n",
    "    CholeskyDecompRank1Update(L, x)\n",
    "\n",
    "Calculate the Cholesky decomposition of `LL' + xx'` with `O(n)` computational effort, where `L` is a `n x n` lower-triangular invertible matrix, and `x` is a `n`-dimentional vector.\n",
    "The inputs `L` and `x` are modified in place.\n",
    "\"\"\"\n",
    "function CholeskyDecompRank1Update(L::LowerTriangular{T1, T_mat}, x::T_vec) where {T1<:Union{AbstractFloat, Complex}, T2<:Union{AbstractFloat, Complex}, T_mat<:AbstractMatrix{T1}, T_vec<:AbstractVector{T2}}\n",
    "    N = length(x)\n",
    "\n",
    "    @assert N > 0\n",
    "    @assert size(L) == (N,N)\n",
    "\n",
    "    T_out = promote_type(T1, T2)\n",
    "\n",
    "    for i = 1:N-1\n",
    "        r = sqrt(abs2(L[i,i]) + abs2(x[i]))\n",
    "\n",
    "        vec_f = zeros(T_out, N)\n",
    "        vec_f[i] = r\n",
    "        vec_f[i+1:end] = (L[i,i]*L[i+1:end,i] + conj(x[i])*x[i+1:end]) / r\n",
    "\n",
    "        x[i+1:end] = (L[i,i]*x[i+1:end] - x[i]*L[i+1:end,i]) / r\n",
    "\n",
    "        L[i:end,i] = vec_f[i:end]\n",
    "    end\n",
    "\n",
    "    L[N,N] = sqrt(abs2(L[N,N]) + abs2(x[N]))\n",
    "    return L\n",
    "end"
   ]
  },
  {
   "cell_type": "markdown",
   "metadata": {},
   "source": [
    "## test"
   ]
  },
  {
   "cell_type": "code",
   "execution_count": 4,
   "metadata": {},
   "outputs": [
    {
     "name": "stdout",
     "output_type": "stream",
     "text": [
      "maximum abs error: 9.237055564881302e-14\n"
     ]
    }
   ],
   "source": [
    "let\n",
    "    # Create a random Hermitian positive-define matrix.\n",
    "    N = 100\n",
    "    A = rand(N,N) + im*rand(N,N)\n",
    "    A = A'*A + Matrix(I, N,N)\n",
    "\n",
    "    # Calculate the Cholesky decomposition of `A`\n",
    "    Chol_A = cholesky(A)\n",
    "    L = Chol_A.L\n",
    "\n",
    "    # Create a random vector.\n",
    "    x = rand(N) + im*rand(N)\n",
    "\n",
    "    # Create an updated matrix\n",
    "    A2 = A + x*x'\n",
    "\n",
    "    # Update the existing Cholesky decomposition.\n",
    "    L2 = deepcopy(L)\n",
    "    L2 = CholeskyDecompRank1Update(L2, x)\n",
    "\n",
    "    # Verify the result.\n",
    "    A2_pred = L2*L2'\n",
    "    M_diff = A2_pred - A2\n",
    "    println(\"maximum abs error: $(maximum(abs.(M_diff)))\")\n",
    "end"
   ]
  },
  {
   "cell_type": "markdown",
   "metadata": {},
   "source": [
    "## Playground"
   ]
  },
  {
   "cell_type": "code",
   "execution_count": 28,
   "metadata": {},
   "outputs": [
    {
     "name": "stdout",
     "output_type": "stream",
     "text": [
      "A:\n"
     ]
    },
    {
     "data": {
      "text/plain": [
       "5×5 Matrix{ComplexF64}:\n",
       " 4.61013+0.0im       2.63253+0.716959im  …  2.08976-0.602582im\n",
       " 2.63253-0.716959im  3.65244+0.0im          1.18828-0.9492im\n",
       " 1.85733-0.364287im  1.61213-0.23294im      1.04994+0.420297im\n",
       " 2.09211-0.239236im  1.18583+0.385239im     1.73521-0.629437im\n",
       " 2.08976+0.602582im  1.18828+0.9492im       3.00451+0.0im"
      ]
     },
     "metadata": {},
     "output_type": "display_data"
    },
    {
     "name": "stdout",
     "output_type": "stream",
     "text": [
      "x:\n"
     ]
    },
    {
     "data": {
      "text/plain": [
       "5-element Vector{ComplexF64}:\n",
       " 0.47807696748186523 + 0.22086892558135485im\n",
       "   0.576760882312709 + 0.7108521932331551im\n",
       " 0.23674278356103506 + 0.17348355647613278im\n",
       "  0.5302429832182669 + 0.7640038384282584im\n",
       "  0.8255974470137991 + 0.3845861047314768im"
      ]
     },
     "metadata": {},
     "output_type": "display_data"
    },
    {
     "name": "stdout",
     "output_type": "stream",
     "text": [
      "A2 (A + xx'):\n"
     ]
    },
    {
     "data": {
      "text/plain": [
       "5×5 Matrix{ComplexF64}:\n",
       " 4.88747+0.0im         3.06528+0.504505im  …  2.56941-0.604095im\n",
       " 3.06528-0.504505im     4.4904+0.0im          1.93784-0.584136im\n",
       " 2.00883-0.333638im    1.87199-0.30117im      1.31211+0.472476im\n",
       " 2.51435+0.00890195im  2.03474+0.448962im     2.46681-0.202602im\n",
       " 2.56941+0.604095im    1.93784+0.584136im     3.83403+0.0im"
      ]
     },
     "metadata": {},
     "output_type": "display_data"
    },
    {
     "name": "stdout",
     "output_type": "stream",
     "text": [
      "L2 (CholeskyDecompRank1Update(L, x)):\n"
     ]
    },
    {
     "data": {
      "text/plain": [
       "5×5 LowerTriangular{ComplexF64, Matrix{ComplexF64}}:\n",
       " 2.21076+0.0im         …           ⋅                    ⋅    \n",
       " 1.38652-0.228204im                ⋅                    ⋅    \n",
       " 0.90866-0.150915im                ⋅                    ⋅    \n",
       " 1.13732+0.00402664im      1.44478+0.0im                ⋅    \n",
       " 1.16223+0.273252im       0.553657-0.0904118im  1.31994+0.0im"
      ]
     },
     "metadata": {},
     "output_type": "display_data"
    },
    {
     "name": "stdout",
     "output_type": "stream",
     "text": [
      "maximum abs error: 8.881784197001252e-16\n"
     ]
    }
   ],
   "source": [
    "let\n",
    "    # Create a random Hermitian positive-define matrix.\n",
    "    N = 5\n",
    "    A = rand(N,N) + im*rand(N,N)\n",
    "    A = A'*A + Matrix(I, N,N)\n",
    "    println(\"A:\")\n",
    "    display(A)\n",
    "    #println(\"eig vals of A:\")\n",
    "    #display(eigvals(A))\n",
    "\n",
    "    # Calculate the Cholesky decomposition of `A`\n",
    "    Chol_A = cholesky(A)\n",
    "    L = Chol_A.L\n",
    "\n",
    "    # Create a random vector.\n",
    "    x = rand(N) + im*rand(N)\n",
    "    println(\"x:\")\n",
    "    display(x)\n",
    "\n",
    "    # Create an updated matrix\n",
    "    A2 = A + x*x'\n",
    "    println(\"A2 (A + xx'):\")\n",
    "    display(A2)\n",
    "\n",
    "    # Update the existing Cholesky decomposition.\n",
    "    L2 = deepcopy(L)\n",
    "    L2 = CholeskyDecompRank1Update(L2, x)\n",
    "    println(\"L2 (CholeskyDecompRank1Update(L, x)):\")\n",
    "    display(L2)\n",
    "\n",
    "    # Verify the result.\n",
    "    A2_pred = L2*L2'\n",
    "    #println(\"A2_pred:\")\n",
    "    #display(A2_pred)\n",
    "    M_diff = A2_pred - A2\n",
    "    #println(\"M_diff:\")\n",
    "    #display(M_diff)\n",
    "    println(\"maximum abs error: $(maximum(abs.(M_diff)))\")\n",
    "end"
   ]
  },
  {
   "cell_type": "code",
   "execution_count": null,
   "metadata": {},
   "outputs": [],
   "source": []
  }
 ],
 "metadata": {
  "kernelspec": {
   "display_name": "Julia 1.8.0",
   "language": "julia",
   "name": "julia-1.8"
  },
  "language_info": {
   "file_extension": ".jl",
   "mimetype": "application/julia",
   "name": "julia",
   "version": "1.8.0"
  },
  "orig_nbformat": 4
 },
 "nbformat": 4,
 "nbformat_minor": 2
}
