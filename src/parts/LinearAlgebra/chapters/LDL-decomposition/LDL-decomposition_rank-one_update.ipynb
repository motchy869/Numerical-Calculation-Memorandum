{
 "cells": [
  {
   "cell_type": "markdown",
   "metadata": {},
   "source": [
    "# LDL decomposition rank-one update"
   ]
  },
  {
   "cell_type": "markdown",
   "metadata": {},
   "source": [
    "## implementation"
   ]
  },
  {
   "cell_type": "code",
   "execution_count": 1,
   "metadata": {},
   "outputs": [],
   "source": [
    "using LinearAlgebra"
   ]
  },
  {
   "cell_type": "code",
   "execution_count": 10,
   "metadata": {},
   "outputs": [
    {
     "data": {
      "text/plain": [
       "ldlDecompRank1Update"
      ]
     },
     "execution_count": 10,
     "metadata": {},
     "output_type": "execute_result"
    }
   ],
   "source": [
    "\"\"\"\n",
    "    ldlDecompRank1Update(L, x)\n",
    "\n",
    "Calculate the LDL decomposition of `LDL' + xx'` with `O(n)` computational effort, where `L` is a `n x n` lower-triangular invertible matrix, `D` is diagonal positive-definite matrix, and `x` is a `n`-dimentional vector.\n",
    "The inputs `L`, `D` and `x` are modified in place.\n",
    "\"\"\"\n",
    "function ldlDecompRank1Update(L::UnitLowerTriangular{T1, T_L}, D::Diagonal{T2, T_D}, x::T_vec) where {T1<:Union{AbstractFloat, Complex}, T2<:AbstractFloat, T3<:Union{AbstractFloat, Complex}, T_L<:AbstractMatrix{T1}, T_D<:AbstractVector{T2}, T_vec<:AbstractVector{T3}}\n",
    "    N = length(x)\n",
    "\n",
    "    @assert N > 0\n",
    "    @assert size(L) == (N,N)\n",
    "    @assert size(D) == (N,N)\n",
    "\n",
    "    T_out = promote_type(T1, T2, T3)\n",
    "\n",
    "    for i = 1:N-1\n",
    "        g = D[i,i] + abs2(x[i])\n",
    "        vec_f = zeros(T_out, N)\n",
    "        vec_f[i+1:end] = (D[i,i]*L[i+1:end,i] + conj(x[i])*x[i+1:end]) / g\n",
    "\n",
    "        x[i+1:end] = sqrt(D[i,i] / g) * (x[i]*L[i+1:end,i] - x[i+1:end])\n",
    "        D[i,i] = g\n",
    "        L[i+1:end,i] = vec_f[i+1:end]\n",
    "    end\n",
    "\n",
    "    D[N,N] += abs2(x[N])\n",
    "    return L, D\n",
    "end"
   ]
  },
  {
   "cell_type": "markdown",
   "metadata": {},
   "source": [
    "## test"
   ]
  },
  {
   "cell_type": "code",
   "execution_count": 20,
   "metadata": {},
   "outputs": [
    {
     "name": "stdout",
     "output_type": "stream",
     "text": [
      "maximum abs error: 6.396513127082265e-14\n"
     ]
    }
   ],
   "source": [
    "let\n",
    "    # Create a random Hermitian positive-define matrix.\n",
    "    N = 100\n",
    "    A = rand(N,N) + im*rand(N,N)\n",
    "    A = A'*A + Matrix(I, N,N)\n",
    "    A = Hermitian(A, :L)\n",
    "\n",
    "    # Calculate the LDL decomposition of `A`\n",
    "    BK_A = nothing\n",
    "    while true\n",
    "        BK_A = bunchkaufman(A)\n",
    "        BK_A.p != collect(1:N) || break\n",
    "    end\n",
    "    L = BK_A.L\n",
    "    D = Diagonal(BK_A.D)\n",
    "\n",
    "    # Create a random vector.\n",
    "    x = rand(N) + im*rand(N)\n",
    "\n",
    "    # Create an updated matrix\n",
    "    A2 = A + x*x'\n",
    "\n",
    "    # Update the existing Cholesky decomposition.\n",
    "    L2 = deepcopy(L)\n",
    "    D2 = real.(deepcopy(D))\n",
    "    L2, D2 = ldlDecompRank1Update(L2, D2, x)\n",
    "\n",
    "    # Verify the result.\n",
    "    A2_pred = L2*D2*L2'\n",
    "    M_diff = A2_pred - A2\n",
    "    println(\"maximum abs error: $(maximum(abs.(M_diff)))\")\n",
    "end"
   ]
  },
  {
   "cell_type": "markdown",
   "metadata": {},
   "source": [
    "## Playground"
   ]
  },
  {
   "cell_type": "code",
   "execution_count": 16,
   "metadata": {},
   "outputs": [
    {
     "name": "stdout",
     "output_type": "stream",
     "text": [
      "A:\n"
     ]
    },
    {
     "data": {
      "text/plain": [
       "10×10 Hermitian{ComplexF64, Matrix{ComplexF64}}:\n",
       " 7.85033+0.0im        3.86151-1.68439im   …  5.02485+0.398327im\n",
       " 3.86151+1.68439im     5.5352+0.0im          3.97947+0.486161im\n",
       " 6.45076-0.522164im   4.43387-1.25991im      5.68534+0.136145im\n",
       " 4.94801-1.076im      3.34807-1.5326im       4.52294-1.01302im\n",
       " 5.75752-1.07444im    4.65414-1.99161im      5.94076-1.78748im\n",
       " 5.57821+0.0603062im  4.15699-1.58373im   …  4.85934+0.34496im\n",
       " 6.62006-0.623726im   4.37549-1.79302im      5.97238-0.466366im\n",
       " 4.37808+1.66934im    3.09546-0.300041im     4.16749+1.04393im\n",
       "  4.8423-0.344623im   4.00045-1.56344im       5.0037-0.508552im\n",
       " 5.02485-0.398327im   3.97947-0.486161im     8.07691+0.0im"
      ]
     },
     "metadata": {},
     "output_type": "display_data"
    },
    {
     "name": "stdout",
     "output_type": "stream",
     "text": [
      "maximum abs error: 1.831026719408895e-15\n"
     ]
    }
   ],
   "source": [
    "let\n",
    "    # Create a random Hermitian positive-define matrix.\n",
    "    N = 5\n",
    "    A = rand(N,N) + im*rand(N,N)\n",
    "    A = A'*A + Matrix(I, N,N)\n",
    "    A = Hermitian(A, :L)\n",
    "    println(\"A:\")\n",
    "    display(A)\n",
    "    #println(\"eig vals of A:\")\n",
    "    #display(eigvals(A))\n",
    "\n",
    "    # Calculate the LDL decomposition of `A`\n",
    "    BK_A = nothing\n",
    "    while true\n",
    "        BK_A = bunchkaufman(A)\n",
    "        BK_A.p != collect(1:N) || break\n",
    "    end\n",
    "    L = BK_A.L\n",
    "    D = Diagonal(BK_A.D)\n",
    "\n",
    "    # Create a random vector.\n",
    "    x = rand(N) + im*rand(N)\n",
    "\n",
    "    # Create an updated matrix\n",
    "    A2 = A + x*x'\n",
    "    #println(\"A2:\")\n",
    "    #display(A2)\n",
    "\n",
    "    # Update the existing Cholesky decomposition.\n",
    "    L2 = deepcopy(L)\n",
    "    D2 = real.(deepcopy(D))\n",
    "    L2, D2 = ldlDecompRank1Update(L2, D2, x)\n",
    "\n",
    "    # Verify the result.\n",
    "    A2_pred = L2*D2*L2'\n",
    "    M_diff = A2_pred - A2\n",
    "    println(\"L2:\")\n",
    "    display(L2)\n",
    "    println(\"D2\")\n",
    "    display(D2)\n",
    "    println(\"M_diff:\")\n",
    "    display(M_diff)\n",
    "    println(\"maximum abs error: $(maximum(abs.(M_diff)))\")\n",
    "end"
   ]
  },
  {
   "cell_type": "code",
   "execution_count": null,
   "metadata": {},
   "outputs": [],
   "source": []
  }
 ],
 "metadata": {
  "kernelspec": {
   "display_name": "Julia 1.8.0",
   "language": "julia",
   "name": "julia-1.8"
  },
  "language_info": {
   "file_extension": ".jl",
   "mimetype": "application/julia",
   "name": "julia",
   "version": "1.8.0"
  },
  "orig_nbformat": 4
 },
 "nbformat": 4,
 "nbformat_minor": 2
}
